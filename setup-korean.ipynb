{
 "cells": [
  {
   "cell_type": "markdown",
   "metadata": {},
   "source": [
    "# 한글 폰트를 쓰고 싶다면?\n",
    "\n",
    "- 터미널로 간다. \n",
    "\n",
    "```shell \n",
    "sudo sed -i 's/archive.ubuntu.com/ftp.daumkakao.com/g' /etc/apt/sources.list\n",
    "sudo apt-get update \n",
    "sudo apt-get install fonts-nanum*\n",
    "sudo fc-cache -fv\n",
    "# 이하는 필요하지 않다 \n",
    "#sudo cp /usr/share/fonts/truetype/nanum/Nanum* /opt/conda/lib/python3.7/site-packages/matplotlib/mpl-data/fonts/ttf/\n",
    "#rm -rf /home/ubuntu/.cache/matplotlib/*\n",
    "```\n",
    "\n",
    "* 이후 설정은 https://financedata.github.io/posts/matplotlib-hangul-for-ubuntu-linux.html 를 참고 "
   ]
  },
  {
   "cell_type": "code",
   "execution_count": null,
   "metadata": {},
   "outputs": [],
   "source": [
    "import matplotlib\n",
    "\n",
    "print ('버전: ', matplotlib.__version__)\n",
    "print ('설치위치: ', matplotlib.__file__)\n",
    "print ('설정: ', matplotlib.get_configdir())\n",
    "print ('캐시: ', matplotlib.get_cachedir())"
   ]
  },
  {
   "cell_type": "code",
   "execution_count": 7,
   "metadata": {},
   "outputs": [
    {
     "name": "stdout",
     "output_type": "stream",
     "text": [
      "Hit:1 http://mirror.kakao.com/ubuntu bionic InRelease                          \n",
      "Hit:2 http://mirror.kakao.com/ubuntu bionic-updates InRelease                  \n",
      "Hit:3 http://mirror.kakao.com/ubuntu bionic-backports InRelease                \n",
      "Hit:4 http://security.ubuntu.com/ubuntu bionic-security InRelease              \n",
      "Reading package lists... Done\n",
      "Reading package lists... Done\n",
      "Building dependency tree       \n",
      "Reading state information... Done\n",
      "Note, selecting 'fonts-nanum-eco' for glob 'fonts-nanum*'\n",
      "Note, selecting 'fonts-nanum' for glob 'fonts-nanum*'\n",
      "Note, selecting 'fonts-nanum-gothic-light' for glob 'fonts-nanum*'\n",
      "Note, selecting 'fonts-nanum-coding' for glob 'fonts-nanum*'\n",
      "Note, selecting 'fonts-nanum-extra' for glob 'fonts-nanum*'\n",
      "fonts-nanum is already the newest version (20170925-1).\n",
      "fonts-nanum-coding is already the newest version (2.5-1).\n",
      "fonts-nanum-eco is already the newest version (1.000-6).\n",
      "fonts-nanum-extra is already the newest version (20170925-1).\n",
      "0 upgraded, 0 newly installed, 0 to remove and 7 not upgraded.\n",
      "/usr/share/fonts: caching, new cache contents: 0 fonts, 5 dirs\n",
      "/usr/share/fonts/X11: caching, new cache contents: 0 fonts, 1 dirs\n",
      "/usr/share/fonts/X11/Type1: caching, new cache contents: 40 fonts, 0 dirs\n",
      "/usr/share/fonts/cMap: caching, new cache contents: 0 fonts, 0 dirs\n",
      "/usr/share/fonts/cmap: caching, new cache contents: 0 fonts, 5 dirs\n",
      "/usr/share/fonts/cmap/adobe-cns1: caching, new cache contents: 0 fonts, 0 dirs\n",
      "/usr/share/fonts/cmap/adobe-gb1: caching, new cache contents: 0 fonts, 0 dirs\n",
      "/usr/share/fonts/cmap/adobe-japan1: caching, new cache contents: 0 fonts, 0 dirs\n",
      "/usr/share/fonts/cmap/adobe-japan2: caching, new cache contents: 0 fonts, 0 dirs\n",
      "/usr/share/fonts/cmap/adobe-korea1: caching, new cache contents: 0 fonts, 0 dirs\n",
      "/usr/share/fonts/truetype: caching, new cache contents: 0 fonts, 3 dirs\n",
      "/usr/share/fonts/truetype/dejavu: caching, new cache contents: 22 fonts, 0 dirs\n",
      "/usr/share/fonts/truetype/liberation: caching, new cache contents: 16 fonts, 0 dirs\n",
      "/usr/share/fonts/truetype/nanum: caching, new cache contents: 31 fonts, 0 dirs\n",
      "/usr/share/fonts/type1: caching, new cache contents: 0 fonts, 1 dirs\n",
      "/usr/share/fonts/type1/texlive-fonts-recommended: caching, new cache contents: 12 fonts, 0 dirs\n",
      "/usr/local/share/fonts: caching, new cache contents: 0 fonts, 0 dirs\n",
      "/home/jovyan/.local/share/fonts: skipping, no such directory\n",
      "/home/jovyan/.fonts: skipping, no such directory\n",
      "/usr/share/texmf/fonts/opentype/public/lm: caching, new cache contents: 72 fonts, 0 dirs\n",
      "/usr/share/texmf/fonts/opentype/public/lm-math: caching, new cache contents: 1 fonts, 0 dirs\n",
      "/var/cache/fontconfig: cleaning cache directory\n",
      "/home/jovyan/.cache/fontconfig: not cleaning non-existent cache directory\n",
      "/home/jovyan/.fontconfig: not cleaning non-existent cache directory\n",
      "fc-cache: succeeded\n",
      "Nanum fonts are set!\n"
     ]
    }
   ],
   "source": [
    "! ./nanum.sh"
   ]
  },
  {
   "cell_type": "code",
   "execution_count": 1,
   "metadata": {},
   "outputs": [
    {
     "data": {
      "text/plain": [
       "['NanumGothic',\n",
       " 'NanumGothicCoding',\n",
       " 'NanumMyeongjo Eco',\n",
       " 'NanumBarunGothic',\n",
       " 'NanumGothic',\n",
       " 'NanumGothicCoding',\n",
       " 'NanumMyeongjo Eco',\n",
       " 'NanumGothic Eco',\n",
       " 'NanumMyeongjo',\n",
       " 'Nanum Brush Script',\n",
       " 'NanumSquareRound',\n",
       " 'NanumSquareRound',\n",
       " 'NanumBarunGothic',\n",
       " 'NanumBarunpen',\n",
       " 'NanumMyeongjo Eco',\n",
       " 'NanumSquare',\n",
       " 'NanumMyeongjo',\n",
       " 'Nanum Pen Script',\n",
       " 'NanumSquare',\n",
       " 'NanumSquare',\n",
       " 'NanumGothic',\n",
       " 'NanumSquareRound',\n",
       " 'NanumBarunGothic',\n",
       " 'NanumBarunGothic',\n",
       " 'NanumGothic Eco',\n",
       " 'NanumGothic',\n",
       " 'NanumGothic Eco',\n",
       " 'NanumMyeongjo',\n",
       " 'NanumBarunpen',\n",
       " 'NanumSquare',\n",
       " 'NanumSquareRound']"
      ]
     },
     "execution_count": 1,
     "metadata": {},
     "output_type": "execute_result"
    }
   ],
   "source": [
    "# If you wanna check font is properly built\n",
    "\n",
    "import matplotlib\n",
    "import matplotlib.font_manager\n",
    "\n",
    "[f.name for f in matplotlib.font_manager.fontManager.ttflist if 'Nanum' in f.name]"
   ]
  },
  {
   "cell_type": "code",
   "execution_count": 2,
   "metadata": {},
   "outputs": [],
   "source": [
    "from matplotlib import font_manager, rc\n",
    "import matplotlib as mpl\n",
    "import matplotlib.pyplot as plt \n",
    "\n",
    "font_fname = '/usr/share/fonts/truetype/nanum/NanumGothicCoding.ttf'\n",
    "font_name = font_manager.FontProperties(fname=font_fname).get_name()"
   ]
  },
  {
   "cell_type": "code",
   "execution_count": 3,
   "metadata": {},
   "outputs": [
    {
     "data": {
      "text/plain": [
       "'NanumGothicCoding'"
      ]
     },
     "execution_count": 3,
     "metadata": {},
     "output_type": "execute_result"
    }
   ],
   "source": [
    "font_name"
   ]
  },
  {
   "cell_type": "code",
   "execution_count": 4,
   "metadata": {},
   "outputs": [],
   "source": [
    "#plt.rcParams['figure.figsize'] = [15, 7]\n",
    "plt.rcParams['figure.dpi'] = 100\n",
    "mpl.rcParams['axes.unicode_minus'] = False\n",
    "plt.rcParams[\"font.size\"] = 10\n",
    "plt.rcParams['xtick.labelsize'] = 8\n",
    "plt.rcParams['ytick.labelsize'] = 8\n",
    "plt.rcParams['font.family'] = font_name"
   ]
  },
  {
   "cell_type": "code",
   "execution_count": 5,
   "metadata": {},
   "outputs": [
    {
     "data": {
      "image/png": "[encoded data removed]",
      "text/plain": [
       "<Figure size 600x400 with 1 Axes>"
      ]
     },
     "metadata": {
      "needs_background": "light"
     },
     "output_type": "display_data"
    }
   ],
   "source": [
    "# Testing module \n",
    "import numpy as np\n",
    "import matplotlib.pyplot as plt \n",
    "\n",
    "data = np.random.randint(-100, 100, 50).cumsum()\n",
    "#data\n",
    "\n",
    "plt.plot(range(50), data, 'r')\n",
    "plt.title('가격변동 추이')\n",
    "plt.ylabel('가격')\n",
    "plt.show()"
   ]
  },
  {
   "cell_type": "code",
   "execution_count": null,
   "metadata": {},
   "outputs": [],
   "source": []
  }
 ],
 "metadata": {
  "kernelspec": {
   "display_name": "Python 3",
   "language": "python",
   "name": "python3"
  },
  "language_info": {
   "codemirror_mode": {
    "name": "ipython",
    "version": 3
   },
   "file_extension": ".py",
   "mimetype": "text/x-python",
   "name": "python",
   "nbconvert_exporter": "python",
   "pygments_lexer": "ipython3",
   "version": "3.7.6"
  }
 },
 "nbformat": 4,
 "nbformat_minor": 4
}
