{
 "cells": [
  {
   "cell_type": "markdown",
   "metadata": {},
   "source": [
    "# Script로 구현한 한글 폰트로딩 \n",
    "\n",
    "Q: 스크립트를 좀 더 편하게 한글을 도커 컨테이너에 심을 수는 없을까? \n",
    "\n",
    "## 시도한 방법 \n",
    "\n",
    "`nanum.sh` 스크립트를 제작 \n",
    "\n",
    "- terminal 창에서 `chmod +x nanum.sh`으로 실행가능하도록 조치해준다. \n",
    "- `!`를 통해서 실행한다. \n",
    "- matplotlib의 폰트 설정을 담은 python 코드(`setting4pltfont.py`)를 실행한다. \n",
    "\n",
    "## Problem \n",
    "\n",
    "- py 코드를 두 번 실행해주어야 했다... \n",
    "\n",
    "* 이후 설정은 https://financedata.github.io/posts/matplotlib-hangul-for-ubuntu-linux.html 를 참고 "
   ]
  },
  {
   "cell_type": "code",
   "execution_count": 1,
   "metadata": {},
   "outputs": [
    {
     "name": "stdout",
     "output_type": "stream",
     "text": [
      "Get:1 http://mirror.kakao.com/ubuntu bionic InRelease [242 kB]                 \n",
      "Get:2 http://mirror.kakao.com/ubuntu bionic-updates InRelease [88.7 kB]        \n",
      "Get:3 http://mirror.kakao.com/ubuntu bionic-backports InRelease [74.6 kB]      \n",
      "Get:4 http://mirror.kakao.com/ubuntu bionic/restricted amd64 Packages [13.5 kB]\n",
      "Get:5 http://mirror.kakao.com/ubuntu bionic/main amd64 Packages [1,344 kB]     \n",
      "Get:6 http://mirror.kakao.com/ubuntu bionic/multiverse amd64 Packages [186 kB] \n",
      "Get:7 http://mirror.kakao.com/ubuntu bionic/universe amd64 Packages [11.3 MB]\n",
      "Get:8 http://security.ubuntu.com/ubuntu bionic-security InRelease [88.7 kB]    \n",
      "Get:9 http://mirror.kakao.com/ubuntu bionic-updates/main amd64 Packages [1,230 kB]\n",
      "Get:10 http://mirror.kakao.com/ubuntu bionic-updates/restricted amd64 Packages [73.6 kB]\n",
      "Get:11 http://mirror.kakao.com/ubuntu bionic-updates/universe amd64 Packages [1,387 kB]\n",
      "Get:12 http://mirror.kakao.com/ubuntu bionic-updates/multiverse amd64 Packages [20.1 kB]\n",
      "Get:13 http://mirror.kakao.com/ubuntu bionic-backports/universe amd64 Packages [8,158 B]\n",
      "Get:14 http://mirror.kakao.com/ubuntu bionic-backports/main amd64 Packages [8,286 B]\n",
      "Get:15 http://security.ubuntu.com/ubuntu bionic-security/restricted amd64 Packages [59.3 kB]\n",
      "Get:16 http://security.ubuntu.com/ubuntu bionic-security/multiverse amd64 Packages [8,815 B]\n",
      "Get:17 http://security.ubuntu.com/ubuntu bionic-security/universe amd64 Packages [856 kB]\n",
      "Get:18 http://security.ubuntu.com/ubuntu bionic-security/main amd64 Packages [933 kB]\n",
      "Fetched 18.0 MB in 10s (1,839 kB/s)                                            \n",
      "Reading package lists... Done\n",
      "Reading package lists... Done\n",
      "Building dependency tree       \n",
      "Reading state information... Done\n",
      "Note, selecting 'fonts-nanum-eco' for glob 'fonts-nanum*'\n",
      "Note, selecting 'fonts-nanum' for glob 'fonts-nanum*'\n",
      "Note, selecting 'fonts-nanum-gothic-light' for glob 'fonts-nanum*'\n",
      "Note, selecting 'fonts-nanum-coding' for glob 'fonts-nanum*'\n",
      "Note, selecting 'fonts-nanum-extra' for glob 'fonts-nanum*'\n",
      "The following NEW packages will be installed:\n",
      "  fonts-nanum fonts-nanum-coding fonts-nanum-eco fonts-nanum-extra\n",
      "0 upgraded, 4 newly installed, 0 to remove and 7 not upgraded.\n",
      "Need to get 37.0 MB of archives.\n",
      "After this operation, 145 MB of additional disk space will be used.\n",
      "Get:1 http://mirror.kakao.com/ubuntu bionic/universe amd64 fonts-nanum all 20170925-1 [9,604 kB]\n",
      "Get:2 http://mirror.kakao.com/ubuntu bionic/universe amd64 fonts-nanum-eco all 1.000-6 [14.0 MB]\n",
      "Get:3 http://mirror.kakao.com/ubuntu bionic/universe amd64 fonts-nanum-extra all 20170925-1 [12.2 MB]\n",
      "Get:4 http://mirror.kakao.com/ubuntu bionic/universe amd64 fonts-nanum-coding all 2.5-1 [1,083 kB]\n",
      "Fetched 37.0 MB in 2s (18.3 MB/s)             \n",
      "debconf: delaying package configuration, since apt-utils is not installed\n",
      "Selecting previously unselected package fonts-nanum.\n",
      "(Reading database ... 118533 files and directories currently installed.)\n",
      "Preparing to unpack .../fonts-nanum_20170925-1_all.deb ...\n",
      "Unpacking fonts-nanum (20170925-1) ...\n",
      "Selecting previously unselected package fonts-nanum-eco.\n",
      "Preparing to unpack .../fonts-nanum-eco_1.000-6_all.deb ...\n",
      "Unpacking fonts-nanum-eco (1.000-6) ...\n",
      "Selecting previously unselected package fonts-nanum-extra.\n",
      "Preparing to unpack .../fonts-nanum-extra_20170925-1_all.deb ...\n",
      "Unpacking fonts-nanum-extra (20170925-1) ...\n",
      "Selecting previously unselected package fonts-nanum-coding.\n",
      "Preparing to unpack .../fonts-nanum-coding_2.5-1_all.deb ...\n",
      "Unpacking fonts-nanum-coding (2.5-1) ...\n",
      "Setting up fonts-nanum-extra (20170925-1) ...\n",
      "Setting up fonts-nanum (20170925-1) ...\n",
      "Setting up fonts-nanum-coding (2.5-1) ...\n",
      "Setting up fonts-nanum-eco (1.000-6) ...\n",
      "Processing triggers for fontconfig (2.12.6-0ubuntu2) ...\n",
      "/usr/share/fonts: caching, new cache contents: 0 fonts, 5 dirs\n",
      "/usr/share/fonts/X11: caching, new cache contents: 0 fonts, 1 dirs\n",
      "/usr/share/fonts/X11/Type1: caching, new cache contents: 40 fonts, 0 dirs\n",
      "/usr/share/fonts/cMap: caching, new cache contents: 0 fonts, 0 dirs\n",
      "/usr/share/fonts/cmap: caching, new cache contents: 0 fonts, 5 dirs\n",
      "/usr/share/fonts/cmap/adobe-cns1: caching, new cache contents: 0 fonts, 0 dirs\n",
      "/usr/share/fonts/cmap/adobe-gb1: caching, new cache contents: 0 fonts, 0 dirs\n",
      "/usr/share/fonts/cmap/adobe-japan1: caching, new cache contents: 0 fonts, 0 dirs\n",
      "/usr/share/fonts/cmap/adobe-japan2: caching, new cache contents: 0 fonts, 0 dirs\n",
      "/usr/share/fonts/cmap/adobe-korea1: caching, new cache contents: 0 fonts, 0 dirs\n",
      "/usr/share/fonts/truetype: caching, new cache contents: 0 fonts, 3 dirs\n",
      "/usr/share/fonts/truetype/dejavu: caching, new cache contents: 22 fonts, 0 dirs\n",
      "/usr/share/fonts/truetype/liberation: caching, new cache contents: 16 fonts, 0 dirs\n",
      "/usr/share/fonts/truetype/nanum: caching, new cache contents: 31 fonts, 0 dirs\n",
      "/usr/share/fonts/type1: caching, new cache contents: 0 fonts, 1 dirs\n",
      "/usr/share/fonts/type1/texlive-fonts-recommended: caching, new cache contents: 12 fonts, 0 dirs\n",
      "/usr/local/share/fonts: caching, new cache contents: 0 fonts, 0 dirs\n",
      "/home/jovyan/.local/share/fonts: skipping, no such directory\n",
      "/home/jovyan/.fonts: skipping, no such directory\n",
      "/usr/share/texmf/fonts/opentype/public/lm: caching, new cache contents: 72 fonts, 0 dirs\n",
      "/usr/share/texmf/fonts/opentype/public/lm-math: caching, new cache contents: 1 fonts, 0 dirs\n",
      "/var/cache/fontconfig: cleaning cache directory\n",
      "/home/jovyan/.cache/fontconfig: not cleaning non-existent cache directory\n",
      "/home/jovyan/.fontconfig: not cleaning non-existent cache directory\n",
      "fc-cache: succeeded\n",
      "Nanum fonts are set!\n",
      "-----------------------\n",
      "NanumGothicCoding is set!\n",
      "NanumGothicCoding is set!\n"
     ]
    }
   ],
   "source": [
    "# Install fonts and initialize plt-fontsetting\n",
    "\n",
    "! ./nanum.sh\n",
    "%run -i setting4pltfont.py"
   ]
  },
  {
   "cell_type": "code",
   "execution_count": 4,
   "metadata": {},
   "outputs": [
    {
     "data": {
      "text/plain": [
       "['NanumGothic',\n",
       " 'NanumMyeongjo Eco',\n",
       " 'NanumMyeongjo Eco',\n",
       " 'NanumGothic',\n",
       " 'Nanum Pen Script',\n",
       " 'NanumMyeongjo Eco',\n",
       " 'NanumGothic',\n",
       " 'NanumBarunGothic',\n",
       " 'NanumSquare',\n",
       " 'NanumGothicCoding',\n",
       " 'NanumSquare',\n",
       " 'NanumGothic Eco',\n",
       " 'NanumSquareRound',\n",
       " 'NanumGothic Eco',\n",
       " 'NanumGothic Eco',\n",
       " 'NanumMyeongjo',\n",
       " 'NanumBarunGothic',\n",
       " 'NanumBarunGothic',\n",
       " 'NanumBarunpen',\n",
       " 'NanumSquareRound',\n",
       " 'NanumSquareRound',\n",
       " 'NanumMyeongjo',\n",
       " 'NanumBarunpen',\n",
       " 'NanumGothic',\n",
       " 'NanumGothicCoding',\n",
       " 'NanumSquare',\n",
       " 'NanumSquareRound',\n",
       " 'Nanum Brush Script',\n",
       " 'NanumBarunGothic',\n",
       " 'NanumMyeongjo',\n",
       " 'NanumSquare']"
      ]
     },
     "execution_count": 4,
     "metadata": {},
     "output_type": "execute_result"
    }
   ],
   "source": [
    "# If you wanna check font is properly built\n",
    "\n",
    "import matplotlib\n",
    "import matplotlib.font_manager\n",
    "\n",
    "[f.name for f in matplotlib.font_manager.fontManager.ttflist if 'Nanum' in f.name]"
   ]
  },
  {
   "cell_type": "code",
   "execution_count": 4,
   "metadata": {},
   "outputs": [
    {
     "name": "stdout",
     "output_type": "stream",
     "text": [
      "NanumGothicCoding is set!\n"
     ]
    },
    {
     "data": {
      "image/png": "[encoded data removed]",
      "text/plain": [
       "<Figure size 600x400 with 1 Axes>"
      ]
     },
     "metadata": {
      "needs_background": "light"
     },
     "output_type": "display_data"
    }
   ],
   "source": [
    "# Testing module \n",
    "import numpy as np\n",
    "import matplotlib.pyplot as plt \n",
    "\n",
    "%run -i setting4pltfont.py\n",
    "\n",
    "data = np.random.randint(-100, 100, 50).cumsum()\n",
    "#data\n",
    "plt.rcParams['figure.dpi'] = 100\n",
    "plt.plot(range(50), data, 'r')\n",
    "plt.title('가격변동 추이')\n",
    "plt.show()"
   ]
  },
  {
   "cell_type": "code",
   "execution_count": null,
   "metadata": {},
   "outputs": [],
   "source": []
  }
 ],
 "metadata": {
  "kernelspec": {
   "display_name": "Python 3",
   "language": "python",
   "name": "python3"
  },
  "language_info": {
   "codemirror_mode": {
    "name": "ipython",
    "version": 3
   },
   "file_extension": ".py",
   "mimetype": "text/x-python",
   "name": "python",
   "nbconvert_exporter": "python",
   "pygments_lexer": "ipython3",
   "version": "3.7.6"
  }
 },
 "nbformat": 4,
 "nbformat_minor": 4
}
